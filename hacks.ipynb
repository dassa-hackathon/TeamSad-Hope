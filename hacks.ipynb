{
 "cells": [
  {
   "cell_type": "code",
   "execution_count": 1,
   "id": "9d9c056b",
   "metadata": {},
   "outputs": [
    {
     "name": "stderr",
     "output_type": "stream",
     "text": [
      "C:\\Users\\Aman\\anaconda3\\lib\\site-packages\\sklearn\\experimental\\enable_hist_gradient_boosting.py:15: UserWarning: Since version 1.0, it is not needed to import enable_hist_gradient_boosting anymore. HistGradientBoostingClassifier and HistGradientBoostingRegressor are now stable and can be normally imported from sklearn.ensemble.\n",
      "  warnings.warn(\n"
     ]
    }
   ],
   "source": [
    "import pandas as pd\n",
    "import numpy as np\n",
    "import seaborn as sns\n",
    "from sklearn.decomposition import PCA\n",
    "from sklearn.preprocessing import StandardScaler\n",
    "import matplotlib.pyplot as plt\n",
    "from statsmodels.tsa.seasonal import seasonal_decompose\n",
    "from sklearn.ensemble import HistGradientBoostingClassifier\n",
    "from sklearn.experimental import enable_hist_gradient_boosting  # Enable the experimental module\n",
    "from sklearn.svm import SVC\n",
    "from sklearn.model_selection import GridSearchCV\n",
    "import xgboost as xgb\n",
    "\n",
    "from sklearn.model_selection import train_test_split\n",
    "from sklearn.ensemble import RandomForestClassifier\n",
    "from sklearn.metrics import accuracy_score, classification_report"
   ]
  },
  {
   "cell_type": "code",
   "execution_count": 2,
   "id": "aeed4ca2",
   "metadata": {},
   "outputs": [],
   "source": [
    "data = pd.read_csv('train_data.csv')"
   ]
  },
  {
   "cell_type": "code",
   "execution_count": 3,
   "id": "c8669b89",
   "metadata": {},
   "outputs": [],
   "source": [
    "data['timestamp'] = pd.to_datetime(data[\"timestamp\"])"
   ]
  },
  {
   "cell_type": "code",
   "execution_count": 4,
   "id": "d3bf388b",
   "metadata": {},
   "outputs": [],
   "source": [
    "data=data.sort_values(['timestamp'],ascending=[True])"
   ]
  },
  {
   "cell_type": "code",
   "execution_count": 5,
   "id": "01b87614",
   "metadata": {},
   "outputs": [],
   "source": [
    "for i in range(2):\n",
    "    data['Period Code1'] = np.where(data['timestamp'].dt.date == data['timestamp'].dt.date.shift(1), data['Period Code'].shift(1), data['Period Code'])\n",
    "    data['Period Code'] = np.where(data['Period Code1'].str.isdigit(), data['Period Code1'], data['Period Code'])"
   ]
  },
  {
   "cell_type": "code",
   "execution_count": 6,
   "id": "1e9080f9",
   "metadata": {},
   "outputs": [],
   "source": [
    "data['Period Code1'] = np.where(data['timestamp'].dt.date == data['timestamp'].dt.date.shift(-1), data['Period Code'].shift(-1), data['Period Code'])"
   ]
  },
  {
   "cell_type": "code",
   "execution_count": 7,
   "id": "65f5f6eb",
   "metadata": {},
   "outputs": [],
   "source": [
    "data['Period Code'] = np.where(data['Period Code1'].str.isdigit(), data['Period Code1'], data['Period Code'])"
   ]
  },
  {
   "cell_type": "code",
   "execution_count": 8,
   "id": "fa0960b4",
   "metadata": {},
   "outputs": [],
   "source": [
    "data['Period Code'] = data['Period Code'].fillna(method='ffill')\n",
    "data['Period Code'] = data['Period Code'].astype(int)"
   ]
  },
  {
   "cell_type": "code",
   "execution_count": 9,
   "id": "7e3b1634",
   "metadata": {},
   "outputs": [],
   "source": [
    "data.drop(columns=['Period Code1', 'B_4','B_5','B_9','B_10','B_14', 'B_20', 'B_22', 'B_23'], axis=1, inplace=True)"
   ]
  },
  {
   "cell_type": "code",
   "execution_count": 10,
   "id": "47197c4d",
   "metadata": {},
   "outputs": [],
   "source": [
    "data['Cycle ID'] = np.where(data['Cycle ID'].str.isdigit(), data['Cycle ID'], None)"
   ]
  },
  {
   "cell_type": "code",
   "execution_count": 11,
   "id": "2bf173fd",
   "metadata": {},
   "outputs": [],
   "source": [
    "data['Cycle ID'] = pd.to_numeric(data['Cycle ID'], errors='coerce')\n",
    "data['Cycle ID'] = data['Cycle ID'].ffill().add(data['Cycle ID'].isna().cumsum())"
   ]
  },
  {
   "cell_type": "code",
   "execution_count": 12,
   "id": "0517a5e1",
   "metadata": {},
   "outputs": [],
   "source": [
    "def fillna_with_group_mean(df, group_column, value_column):\n",
    "    df[value_column] = pd.to_numeric(df[value_column], errors='coerce')    \n",
    "    df[value_column] = df.groupby(group_column)[value_column].transform(lambda x: x.fillna(x.mean()))\n",
    "    return df"
   ]
  },
  {
   "cell_type": "code",
   "execution_count": 13,
   "id": "14e5b29c",
   "metadata": {},
   "outputs": [],
   "source": [
    "populate_column = ['B_2',\t'B_3',\t'B_15',\t'B_16',\t'B_17',\t'B_18',\t'B_19','B_21','B_24','B_25']"
   ]
  },
  {
   "cell_type": "code",
   "execution_count": 14,
   "id": "4dd84ea1",
   "metadata": {},
   "outputs": [],
   "source": [
    "for name in populate_column:\n",
    "    data = fillna_with_group_mean(data, 'Period Code', name)"
   ]
  },
  {
   "cell_type": "code",
   "execution_count": 15,
   "id": "405e78e1",
   "metadata": {},
   "outputs": [],
   "source": [
    "data['ID'] = data['timestamp'].astype(str) + '-' +data['Cycle ID'].astype(str)"
   ]
  },
  {
   "cell_type": "code",
   "execution_count": 16,
   "id": "1c76bbd2",
   "metadata": {},
   "outputs": [],
   "source": [
    "data.dropna(subset=['Good/Bad'],inplace=True)"
   ]
  },
  {
   "cell_type": "code",
   "execution_count": 17,
   "id": "9a4d4843",
   "metadata": {},
   "outputs": [],
   "source": [
    "test_data = pd.read_csv('test_data.csv')"
   ]
  },
  {
   "cell_type": "code",
   "execution_count": 18,
   "id": "593be7f1",
   "metadata": {},
   "outputs": [],
   "source": [
    "test_data['B_2'] = pd.to_numeric(test_data['B_2'], errors='coerce')\n",
    "test_data['B_3'] = pd.to_numeric(test_data['B_3'], errors='coerce')\n",
    "test_data['B_15'] = pd.to_numeric(test_data['B_15'], errors='coerce')\n",
    "test_data['B_16'] = pd.to_numeric(test_data['B_16'], errors='coerce')\n",
    "test_data['B_17'] = pd.to_numeric(test_data['B_17'], errors='coerce')\n",
    "test_data['B_18'] = pd.to_numeric(test_data['B_18'], errors='coerce')\n",
    "test_data['B_19'] = pd.to_numeric(test_data['B_19'], errors='coerce')\n",
    "test_data['B_21'] = pd.to_numeric(test_data['B_21'], errors='coerce')\n",
    "test_data['B_24'] = pd.to_numeric(test_data['B_24'], errors='coerce')\n",
    "test_data['B_25'] = pd.to_numeric(test_data['B_24'], errors='coerce')"
   ]
  },
  {
   "cell_type": "code",
   "execution_count": 19,
   "id": "1108521f",
   "metadata": {},
   "outputs": [
    {
     "name": "stdout",
     "output_type": "stream",
     "text": [
      "Accuracy: 0.9589379438098179\n",
      "Classification Report:\n",
      "              precision    recall  f1-score   support\n",
      "\n",
      "           0       0.97      0.98      0.98      2741\n",
      "           1       0.88      0.85      0.86       498\n",
      "\n",
      "    accuracy                           0.96      3239\n",
      "   macro avg       0.93      0.91      0.92      3239\n",
      "weighted avg       0.96      0.96      0.96      3239\n",
      "\n"
     ]
    }
   ],
   "source": [
    "X = data[['B_2',\t'B_3',\t'B_15',\t'B_16',\t'B_17',\t'B_18',\t'B_19',\t'B_21',\t'B_24',\t'B_25']]\n",
    "y = data['Good/Bad']\n",
    "\n",
    "X_train, X_test, y_train, y_test = train_test_split(X, y, test_size=0.2, random_state=42)\n",
    "rf_classifier = HistGradientBoostingClassifier(random_state=42)\n",
    "rf_classifier.fit(X_train, y_train)\n",
    "\n",
    "# Make predictions on the test data\n",
    "y_pred = rf_classifier.predict(X_test)\n",
    "\n",
    "# Evaluate the model\n",
    "accuracy = accuracy_score(y_test, y_pred)\n",
    "classification_rep = classification_report(y_test, y_pred)\n",
    "\n",
    "# Print the accuracy and classification report\n",
    "print(\"Accuracy:\", accuracy)\n",
    "print(\"Classification Report:\")\n",
    "print(classification_rep)"
   ]
  },
  {
   "cell_type": "code",
   "execution_count": 24,
   "id": "f8b6ee74",
   "metadata": {},
   "outputs": [],
   "source": [
    "X_test=test_data[['B_2','B_3',\t'B_15',\t'B_16',\t'B_17',\t'B_18',\t'B_19',\t'B_21',\t'B_24',\t'B_25']]\n",
    "y_pred = rf_classifier.predict(X_test)"
   ]
  },
  {
   "cell_type": "code",
   "execution_count": 25,
   "id": "fd4eb34a",
   "metadata": {},
   "outputs": [
    {
     "name": "stderr",
     "output_type": "stream",
     "text": [
      "C:\\Users\\Aman\\AppData\\Local\\Temp/ipykernel_11796/1384814958.py:1: SettingWithCopyWarning: \n",
      "A value is trying to be set on a copy of a slice from a DataFrame.\n",
      "Try using .loc[row_indexer,col_indexer] = value instead\n",
      "\n",
      "See the caveats in the documentation: https://pandas.pydata.org/pandas-docs/stable/user_guide/indexing.html#returning-a-view-versus-a-copy\n",
      "  X_test['Good/Bad'] = y_pred\n"
     ]
    }
   ],
   "source": [
    "X_test['Good/Bad'] = y_pred"
   ]
  },
  {
   "cell_type": "code",
   "execution_count": 26,
   "id": "e5d83561",
   "metadata": {},
   "outputs": [],
   "source": [
    "test_data['ID'] = test_data['timestamp'].astype(str) + '-' +test_data['Cycle ID'].astype(str)"
   ]
  },
  {
   "cell_type": "code",
   "execution_count": 27,
   "id": "5086008f",
   "metadata": {},
   "outputs": [],
   "source": [
    "test_data = pd.merge(test_data[['timestamp',\t'ID', 'Period Code',\t'Cycle ID']], X_test, left_index=True, right_index=True)"
   ]
  },
  {
   "cell_type": "code",
   "execution_count": 28,
   "id": "56975529",
   "metadata": {},
   "outputs": [],
   "source": [
    "test_data = test_data[['ID', 'Good/Bad']]"
   ]
  },
  {
   "cell_type": "code",
   "execution_count": 29,
   "id": "4559c02b",
   "metadata": {},
   "outputs": [],
   "source": [
    "test_data.to_csv('result.csv',index=False)"
   ]
  },
  {
   "cell_type": "code",
   "execution_count": 30,
   "id": "289d267d",
   "metadata": {},
   "outputs": [
    {
     "data": {
      "text/html": [
       "<div>\n",
       "<style scoped>\n",
       "    .dataframe tbody tr th:only-of-type {\n",
       "        vertical-align: middle;\n",
       "    }\n",
       "\n",
       "    .dataframe tbody tr th {\n",
       "        vertical-align: top;\n",
       "    }\n",
       "\n",
       "    .dataframe thead th {\n",
       "        text-align: right;\n",
       "    }\n",
       "</style>\n",
       "<table border=\"1\" class=\"dataframe\">\n",
       "  <thead>\n",
       "    <tr style=\"text-align: right;\">\n",
       "      <th></th>\n",
       "      <th>ID</th>\n",
       "      <th>Good/Bad</th>\n",
       "    </tr>\n",
       "  </thead>\n",
       "  <tbody>\n",
       "    <tr>\n",
       "      <th>0</th>\n",
       "      <td>4/27/2020 7:20-127</td>\n",
       "      <td>0</td>\n",
       "    </tr>\n",
       "    <tr>\n",
       "      <th>1</th>\n",
       "      <td>4/27/2020 7:25-128</td>\n",
       "      <td>0</td>\n",
       "    </tr>\n",
       "    <tr>\n",
       "      <th>2</th>\n",
       "      <td>4/27/2020 7:30-129</td>\n",
       "      <td>0</td>\n",
       "    </tr>\n",
       "    <tr>\n",
       "      <th>3</th>\n",
       "      <td>4/27/2020 7:35-130</td>\n",
       "      <td>0</td>\n",
       "    </tr>\n",
       "    <tr>\n",
       "      <th>4</th>\n",
       "      <td>4/27/2020 7:40-Bad</td>\n",
       "      <td>0</td>\n",
       "    </tr>\n",
       "    <tr>\n",
       "      <th>...</th>\n",
       "      <td>...</td>\n",
       "      <td>...</td>\n",
       "    </tr>\n",
       "    <tr>\n",
       "      <th>4122</th>\n",
       "      <td>5/11/2020 14:50-196</td>\n",
       "      <td>1</td>\n",
       "    </tr>\n",
       "    <tr>\n",
       "      <th>4123</th>\n",
       "      <td>5/11/2020 14:55-197</td>\n",
       "      <td>1</td>\n",
       "    </tr>\n",
       "    <tr>\n",
       "      <th>4124</th>\n",
       "      <td>5/11/2020 15:00-198</td>\n",
       "      <td>1</td>\n",
       "    </tr>\n",
       "    <tr>\n",
       "      <th>4125</th>\n",
       "      <td>5/11/2020 15:05-199</td>\n",
       "      <td>1</td>\n",
       "    </tr>\n",
       "    <tr>\n",
       "      <th>4126</th>\n",
       "      <td>5/11/2020 15:10-200</td>\n",
       "      <td>1</td>\n",
       "    </tr>\n",
       "  </tbody>\n",
       "</table>\n",
       "<p>4127 rows × 2 columns</p>\n",
       "</div>"
      ],
      "text/plain": [
       "                       ID  Good/Bad\n",
       "0      4/27/2020 7:20-127         0\n",
       "1      4/27/2020 7:25-128         0\n",
       "2      4/27/2020 7:30-129         0\n",
       "3      4/27/2020 7:35-130         0\n",
       "4      4/27/2020 7:40-Bad         0\n",
       "...                   ...       ...\n",
       "4122  5/11/2020 14:50-196         1\n",
       "4123  5/11/2020 14:55-197         1\n",
       "4124  5/11/2020 15:00-198         1\n",
       "4125  5/11/2020 15:05-199         1\n",
       "4126  5/11/2020 15:10-200         1\n",
       "\n",
       "[4127 rows x 2 columns]"
      ]
     },
     "execution_count": 30,
     "metadata": {},
     "output_type": "execute_result"
    }
   ],
   "source": [
    "test_data"
   ]
  },
  {
   "cell_type": "code",
   "execution_count": 31,
   "id": "23d4b11c",
   "metadata": {},
   "outputs": [
    {
     "name": "stderr",
     "output_type": "stream",
     "text": [
      "C:\\Users\\Aman\\AppData\\Local\\Temp/ipykernel_11796/2627137660.py:1: FutureWarning: The default value of numeric_only in DataFrame.corr is deprecated. In a future version, it will default to False. Select only valid columns or specify the value of numeric_only to silence this warning.\n",
      "  data.corr()\n"
     ]
    },
    {
     "data": {
      "text/html": [
       "<div>\n",
       "<style scoped>\n",
       "    .dataframe tbody tr th:only-of-type {\n",
       "        vertical-align: middle;\n",
       "    }\n",
       "\n",
       "    .dataframe tbody tr th {\n",
       "        vertical-align: top;\n",
       "    }\n",
       "\n",
       "    .dataframe thead th {\n",
       "        text-align: right;\n",
       "    }\n",
       "</style>\n",
       "<table border=\"1\" class=\"dataframe\">\n",
       "  <thead>\n",
       "    <tr style=\"text-align: right;\">\n",
       "      <th></th>\n",
       "      <th>Period Code</th>\n",
       "      <th>Cycle ID</th>\n",
       "      <th>B_2</th>\n",
       "      <th>B_3</th>\n",
       "      <th>B_15</th>\n",
       "      <th>B_16</th>\n",
       "      <th>B_17</th>\n",
       "      <th>B_18</th>\n",
       "      <th>B_19</th>\n",
       "      <th>B_21</th>\n",
       "      <th>B_24</th>\n",
       "      <th>B_25</th>\n",
       "      <th>Good/Bad</th>\n",
       "    </tr>\n",
       "  </thead>\n",
       "  <tbody>\n",
       "    <tr>\n",
       "      <th>Period Code</th>\n",
       "      <td>1.000000</td>\n",
       "      <td>0.806654</td>\n",
       "      <td>-0.005409</td>\n",
       "      <td>-0.016941</td>\n",
       "      <td>0.049883</td>\n",
       "      <td>-0.061027</td>\n",
       "      <td>0.075074</td>\n",
       "      <td>-0.074975</td>\n",
       "      <td>0.048276</td>\n",
       "      <td>0.032091</td>\n",
       "      <td>-0.043663</td>\n",
       "      <td>-0.038237</td>\n",
       "      <td>-0.010524</td>\n",
       "    </tr>\n",
       "    <tr>\n",
       "      <th>Cycle ID</th>\n",
       "      <td>0.806654</td>\n",
       "      <td>1.000000</td>\n",
       "      <td>-0.006674</td>\n",
       "      <td>-0.004761</td>\n",
       "      <td>0.415933</td>\n",
       "      <td>-0.409268</td>\n",
       "      <td>0.342652</td>\n",
       "      <td>0.157513</td>\n",
       "      <td>0.387850</td>\n",
       "      <td>0.362820</td>\n",
       "      <td>-0.380066</td>\n",
       "      <td>-0.378891</td>\n",
       "      <td>0.301652</td>\n",
       "    </tr>\n",
       "    <tr>\n",
       "      <th>B_2</th>\n",
       "      <td>-0.005409</td>\n",
       "      <td>-0.006674</td>\n",
       "      <td>1.000000</td>\n",
       "      <td>0.010142</td>\n",
       "      <td>0.011692</td>\n",
       "      <td>-0.001926</td>\n",
       "      <td>0.003283</td>\n",
       "      <td>-0.002975</td>\n",
       "      <td>0.003356</td>\n",
       "      <td>0.007628</td>\n",
       "      <td>-0.004808</td>\n",
       "      <td>-0.016496</td>\n",
       "      <td>0.007458</td>\n",
       "    </tr>\n",
       "    <tr>\n",
       "      <th>B_3</th>\n",
       "      <td>-0.016941</td>\n",
       "      <td>-0.004761</td>\n",
       "      <td>0.010142</td>\n",
       "      <td>1.000000</td>\n",
       "      <td>0.012274</td>\n",
       "      <td>-0.012671</td>\n",
       "      <td>0.019470</td>\n",
       "      <td>-0.016394</td>\n",
       "      <td>0.009731</td>\n",
       "      <td>0.015962</td>\n",
       "      <td>-0.009043</td>\n",
       "      <td>-0.012791</td>\n",
       "      <td>0.003269</td>\n",
       "    </tr>\n",
       "    <tr>\n",
       "      <th>B_15</th>\n",
       "      <td>0.049883</td>\n",
       "      <td>0.415933</td>\n",
       "      <td>0.011692</td>\n",
       "      <td>0.012274</td>\n",
       "      <td>1.000000</td>\n",
       "      <td>-0.833334</td>\n",
       "      <td>0.772574</td>\n",
       "      <td>0.144908</td>\n",
       "      <td>0.770617</td>\n",
       "      <td>0.712179</td>\n",
       "      <td>-0.761807</td>\n",
       "      <td>-0.764693</td>\n",
       "      <td>0.654348</td>\n",
       "    </tr>\n",
       "    <tr>\n",
       "      <th>B_16</th>\n",
       "      <td>-0.061027</td>\n",
       "      <td>-0.409268</td>\n",
       "      <td>-0.001926</td>\n",
       "      <td>-0.012671</td>\n",
       "      <td>-0.833334</td>\n",
       "      <td>1.000000</td>\n",
       "      <td>-0.779337</td>\n",
       "      <td>-0.077461</td>\n",
       "      <td>-0.754391</td>\n",
       "      <td>-0.691508</td>\n",
       "      <td>0.740854</td>\n",
       "      <td>0.744712</td>\n",
       "      <td>-0.629243</td>\n",
       "    </tr>\n",
       "    <tr>\n",
       "      <th>B_17</th>\n",
       "      <td>0.075074</td>\n",
       "      <td>0.342652</td>\n",
       "      <td>0.003283</td>\n",
       "      <td>0.019470</td>\n",
       "      <td>0.772574</td>\n",
       "      <td>-0.779337</td>\n",
       "      <td>1.000000</td>\n",
       "      <td>-0.163906</td>\n",
       "      <td>0.688970</td>\n",
       "      <td>0.619707</td>\n",
       "      <td>-0.676866</td>\n",
       "      <td>-0.682898</td>\n",
       "      <td>0.526883</td>\n",
       "    </tr>\n",
       "    <tr>\n",
       "      <th>B_18</th>\n",
       "      <td>-0.074975</td>\n",
       "      <td>0.157513</td>\n",
       "      <td>-0.002975</td>\n",
       "      <td>-0.016394</td>\n",
       "      <td>0.144908</td>\n",
       "      <td>-0.077461</td>\n",
       "      <td>-0.163906</td>\n",
       "      <td>1.000000</td>\n",
       "      <td>0.178738</td>\n",
       "      <td>0.232446</td>\n",
       "      <td>-0.170726</td>\n",
       "      <td>-0.179304</td>\n",
       "      <td>0.342904</td>\n",
       "    </tr>\n",
       "    <tr>\n",
       "      <th>B_19</th>\n",
       "      <td>0.048276</td>\n",
       "      <td>0.387850</td>\n",
       "      <td>0.003356</td>\n",
       "      <td>0.009731</td>\n",
       "      <td>0.770617</td>\n",
       "      <td>-0.754391</td>\n",
       "      <td>0.688970</td>\n",
       "      <td>0.178738</td>\n",
       "      <td>1.000000</td>\n",
       "      <td>0.658805</td>\n",
       "      <td>-0.698690</td>\n",
       "      <td>-0.694234</td>\n",
       "      <td>0.612188</td>\n",
       "    </tr>\n",
       "    <tr>\n",
       "      <th>B_21</th>\n",
       "      <td>0.032091</td>\n",
       "      <td>0.362820</td>\n",
       "      <td>0.007628</td>\n",
       "      <td>0.015962</td>\n",
       "      <td>0.712179</td>\n",
       "      <td>-0.691508</td>\n",
       "      <td>0.619707</td>\n",
       "      <td>0.232446</td>\n",
       "      <td>0.658805</td>\n",
       "      <td>1.000000</td>\n",
       "      <td>-0.643796</td>\n",
       "      <td>-0.649083</td>\n",
       "      <td>0.578470</td>\n",
       "    </tr>\n",
       "    <tr>\n",
       "      <th>B_24</th>\n",
       "      <td>-0.043663</td>\n",
       "      <td>-0.380066</td>\n",
       "      <td>-0.004808</td>\n",
       "      <td>-0.009043</td>\n",
       "      <td>-0.761807</td>\n",
       "      <td>0.740854</td>\n",
       "      <td>-0.676866</td>\n",
       "      <td>-0.170726</td>\n",
       "      <td>-0.698690</td>\n",
       "      <td>-0.643796</td>\n",
       "      <td>1.000000</td>\n",
       "      <td>0.685555</td>\n",
       "      <td>-0.593227</td>\n",
       "    </tr>\n",
       "    <tr>\n",
       "      <th>B_25</th>\n",
       "      <td>-0.038237</td>\n",
       "      <td>-0.378891</td>\n",
       "      <td>-0.016496</td>\n",
       "      <td>-0.012791</td>\n",
       "      <td>-0.764693</td>\n",
       "      <td>0.744712</td>\n",
       "      <td>-0.682898</td>\n",
       "      <td>-0.179304</td>\n",
       "      <td>-0.694234</td>\n",
       "      <td>-0.649083</td>\n",
       "      <td>0.685555</td>\n",
       "      <td>1.000000</td>\n",
       "      <td>-0.603714</td>\n",
       "    </tr>\n",
       "    <tr>\n",
       "      <th>Good/Bad</th>\n",
       "      <td>-0.010524</td>\n",
       "      <td>0.301652</td>\n",
       "      <td>0.007458</td>\n",
       "      <td>0.003269</td>\n",
       "      <td>0.654348</td>\n",
       "      <td>-0.629243</td>\n",
       "      <td>0.526883</td>\n",
       "      <td>0.342904</td>\n",
       "      <td>0.612188</td>\n",
       "      <td>0.578470</td>\n",
       "      <td>-0.593227</td>\n",
       "      <td>-0.603714</td>\n",
       "      <td>1.000000</td>\n",
       "    </tr>\n",
       "  </tbody>\n",
       "</table>\n",
       "</div>"
      ],
      "text/plain": [
       "             Period Code  Cycle ID       B_2       B_3      B_15      B_16  \\\n",
       "Period Code     1.000000  0.806654 -0.005409 -0.016941  0.049883 -0.061027   \n",
       "Cycle ID        0.806654  1.000000 -0.006674 -0.004761  0.415933 -0.409268   \n",
       "B_2            -0.005409 -0.006674  1.000000  0.010142  0.011692 -0.001926   \n",
       "B_3            -0.016941 -0.004761  0.010142  1.000000  0.012274 -0.012671   \n",
       "B_15            0.049883  0.415933  0.011692  0.012274  1.000000 -0.833334   \n",
       "B_16           -0.061027 -0.409268 -0.001926 -0.012671 -0.833334  1.000000   \n",
       "B_17            0.075074  0.342652  0.003283  0.019470  0.772574 -0.779337   \n",
       "B_18           -0.074975  0.157513 -0.002975 -0.016394  0.144908 -0.077461   \n",
       "B_19            0.048276  0.387850  0.003356  0.009731  0.770617 -0.754391   \n",
       "B_21            0.032091  0.362820  0.007628  0.015962  0.712179 -0.691508   \n",
       "B_24           -0.043663 -0.380066 -0.004808 -0.009043 -0.761807  0.740854   \n",
       "B_25           -0.038237 -0.378891 -0.016496 -0.012791 -0.764693  0.744712   \n",
       "Good/Bad       -0.010524  0.301652  0.007458  0.003269  0.654348 -0.629243   \n",
       "\n",
       "                 B_17      B_18      B_19      B_21      B_24      B_25  \\\n",
       "Period Code  0.075074 -0.074975  0.048276  0.032091 -0.043663 -0.038237   \n",
       "Cycle ID     0.342652  0.157513  0.387850  0.362820 -0.380066 -0.378891   \n",
       "B_2          0.003283 -0.002975  0.003356  0.007628 -0.004808 -0.016496   \n",
       "B_3          0.019470 -0.016394  0.009731  0.015962 -0.009043 -0.012791   \n",
       "B_15         0.772574  0.144908  0.770617  0.712179 -0.761807 -0.764693   \n",
       "B_16        -0.779337 -0.077461 -0.754391 -0.691508  0.740854  0.744712   \n",
       "B_17         1.000000 -0.163906  0.688970  0.619707 -0.676866 -0.682898   \n",
       "B_18        -0.163906  1.000000  0.178738  0.232446 -0.170726 -0.179304   \n",
       "B_19         0.688970  0.178738  1.000000  0.658805 -0.698690 -0.694234   \n",
       "B_21         0.619707  0.232446  0.658805  1.000000 -0.643796 -0.649083   \n",
       "B_24        -0.676866 -0.170726 -0.698690 -0.643796  1.000000  0.685555   \n",
       "B_25        -0.682898 -0.179304 -0.694234 -0.649083  0.685555  1.000000   \n",
       "Good/Bad     0.526883  0.342904  0.612188  0.578470 -0.593227 -0.603714   \n",
       "\n",
       "             Good/Bad  \n",
       "Period Code -0.010524  \n",
       "Cycle ID     0.301652  \n",
       "B_2          0.007458  \n",
       "B_3          0.003269  \n",
       "B_15         0.654348  \n",
       "B_16        -0.629243  \n",
       "B_17         0.526883  \n",
       "B_18         0.342904  \n",
       "B_19         0.612188  \n",
       "B_21         0.578470  \n",
       "B_24        -0.593227  \n",
       "B_25        -0.603714  \n",
       "Good/Bad     1.000000  "
      ]
     },
     "execution_count": 31,
     "metadata": {},
     "output_type": "execute_result"
    }
   ],
   "source": [
    "data.corr()"
   ]
  },
  {
   "cell_type": "code",
   "execution_count": 32,
   "id": "fd9f91fd",
   "metadata": {},
   "outputs": [
    {
     "name": "stdout",
     "output_type": "stream",
     "text": [
      "Period Code  Cycle ID       0.806654\n",
      "Cycle ID     Period Code    0.806654\n",
      "B_17         B_15           0.772574\n",
      "B_15         B_17           0.772574\n",
      "             B_19           0.770617\n",
      "B_19         B_15           0.770617\n",
      "B_16         B_25           0.744712\n",
      "B_25         B_16           0.744712\n",
      "B_24         B_16           0.740854\n",
      "B_16         B_24           0.740854\n",
      "dtype: float64\n"
     ]
    },
    {
     "name": "stderr",
     "output_type": "stream",
     "text": [
      "C:\\Users\\Aman\\AppData\\Local\\Temp/ipykernel_11796/1116447283.py:1: FutureWarning: The default value of numeric_only in DataFrame.corr is deprecated. In a future version, it will default to False. Select only valid columns or specify the value of numeric_only to silence this warning.\n",
      "  corr_matrix = data.corr()\n",
      "C:\\Users\\Aman\\AppData\\Local\\Temp/ipykernel_11796/1116447283.py:4: FutureWarning: Using a non-tuple sequence for multidimensional indexing is deprecated; use `arr[tuple(seq)]` instead of `arr[seq]`. In the future this will be interpreted as an array index, `arr[np.array(seq)]`, which will result either in an error or a different result.\n",
      "  corr_matrix.values[[range(len(corr_matrix))]*2] = 0\n"
     ]
    }
   ],
   "source": [
    "corr_matrix = data.corr()\n",
    "\n",
    "# Set the diagonal (self-correlations) to 0\n",
    "corr_matrix.values[[range(len(corr_matrix))]*2] = 0\n",
    "\n",
    "# Get the top 10 highest correlation values (excluding 1.0 self-correlations)\n",
    "top_correlations = corr_matrix.unstack().sort_values(ascending=False).head(10)\n",
    "\n",
    "print(top_correlations)"
   ]
  },
  {
   "cell_type": "code",
   "execution_count": 33,
   "id": "d3704b16",
   "metadata": {},
   "outputs": [
    {
     "data": {
      "text/plain": [
       "B_16  B_15   -0.833334\n",
       "B_15  B_16   -0.833334\n",
       "B_17  B_16   -0.779337\n",
       "B_16  B_17   -0.779337\n",
       "B_15  B_25   -0.764693\n",
       "B_25  B_15   -0.764693\n",
       "B_15  B_24   -0.761807\n",
       "B_24  B_15   -0.761807\n",
       "B_16  B_19   -0.754391\n",
       "B_19  B_16   -0.754391\n",
       "dtype: float64"
      ]
     },
     "execution_count": 33,
     "metadata": {},
     "output_type": "execute_result"
    }
   ],
   "source": [
    "corr_matrix.unstack().sort_values(ascending=True).head(10)"
   ]
  },
  {
   "cell_type": "code",
   "execution_count": 34,
   "id": "c2f52ad4",
   "metadata": {},
   "outputs": [
    {
     "name": "stderr",
     "output_type": "stream",
     "text": [
      "C:\\Users\\Aman\\AppData\\Local\\Temp/ipykernel_11796/566328511.py:1: FutureWarning: The default value of numeric_only in DataFrame.corr is deprecated. In a future version, it will default to False. Select only valid columns or specify the value of numeric_only to silence this warning.\n",
      "  sns.heatmap(data.corr(), vmin=-1, vmax=1,\n"
     ]
    },
    {
     "data": {
      "text/plain": [
       "<Axes: >"
      ]
     },
     "execution_count": 34,
     "metadata": {},
     "output_type": "execute_result"
    },
    {
     "data": {
      "image/png": "[encoded data removed]",
      "text/plain": [
       "<Figure size 432x288 with 2 Axes>"
      ]
     },
     "metadata": {
      "needs_background": "light"
     },
     "output_type": "display_data"
    }
   ],
   "source": [
    "sns.heatmap(data.corr(), vmin=-1, vmax=1,\n",
    "annot=True,cmap=\"rocket_r\")"
   ]
  },
  {
   "cell_type": "code",
   "execution_count": 35,
   "id": "e4bcd7d2",
   "metadata": {},
   "outputs": [
    {
     "name": "stdout",
     "output_type": "stream",
     "text": [
      "Explained Variance Ratios: [0.53231733 0.11207627 0.10081758 0.09886421 0.03680467]\n",
      "Cumulative Explained Variance: [0.53231733 0.6443936  0.74521118 0.84407539 0.88088006]\n"
     ]
    }
   ],
   "source": [
    "# Extract the sensor columns for PCA (excluding non-numeric and label columns)\n",
    "sensor_columns = [col for col in data.columns if col.startswith('B_')]\n",
    "\n",
    "# Standardize the data\n",
    "scaler = StandardScaler()\n",
    "scaled_data = scaler.fit_transform(data[sensor_columns])\n",
    "\n",
    "# Create a PCA instance with the number of components you desire\n",
    "n_components = 5  # You can choose the number of principal components you want\n",
    "pca = PCA(n_components=n_components)\n",
    "\n",
    "# Fit and transform the standardized data\n",
    "principal_components = pca.fit_transform(scaled_data)\n",
    "\n",
    "# Create a DataFrame to store the principal components\n",
    "pca_df = pd.DataFrame(data=principal_components, columns=[f'PC{i+1}' for i in range(n_components)])\n",
    "\n",
    "# Concatenate the PCA results with the original data (if needed)\n",
    "result_df = pd.concat([data[['Cycle ID', 'timestamp', 'Good/Bad']], pca_df], axis=1)\n",
    "\n",
    "# Print the explained variance ratio to understand the contribution of each PC\n",
    "explained_variance_ratio = pca.explained_variance_ratio_\n",
    "print(\"Explained Variance Ratios:\", explained_variance_ratio)\n",
    "\n",
    "# You can also find the cumulative explained variance to determine the number of PCs to keep\n",
    "cumulative_explained_variance = explained_variance_ratio.cumsum()\n",
    "print(\"Cumulative Explained Variance:\", cumulative_explained_variance)\n"
   ]
  },
  {
   "cell_type": "code",
   "execution_count": 36,
   "id": "f0c1c34e",
   "metadata": {},
   "outputs": [
    {
     "data": {
      "text/html": [
       "<div>\n",
       "<style scoped>\n",
       "    .dataframe tbody tr th:only-of-type {\n",
       "        vertical-align: middle;\n",
       "    }\n",
       "\n",
       "    .dataframe tbody tr th {\n",
       "        vertical-align: top;\n",
       "    }\n",
       "\n",
       "    .dataframe thead th {\n",
       "        text-align: right;\n",
       "    }\n",
       "</style>\n",
       "<table border=\"1\" class=\"dataframe\">\n",
       "  <thead>\n",
       "    <tr style=\"text-align: right;\">\n",
       "      <th></th>\n",
       "      <th>PC1</th>\n",
       "      <th>PC2</th>\n",
       "      <th>PC3</th>\n",
       "      <th>PC4</th>\n",
       "      <th>PC5</th>\n",
       "    </tr>\n",
       "  </thead>\n",
       "  <tbody>\n",
       "    <tr>\n",
       "      <th>0</th>\n",
       "      <td>-2.132478</td>\n",
       "      <td>0.123186</td>\n",
       "      <td>-1.120862</td>\n",
       "      <td>-0.833404</td>\n",
       "      <td>-0.153256</td>\n",
       "    </tr>\n",
       "    <tr>\n",
       "      <th>1</th>\n",
       "      <td>-1.967529</td>\n",
       "      <td>-0.440371</td>\n",
       "      <td>-0.048571</td>\n",
       "      <td>-1.395281</td>\n",
       "      <td>-0.097471</td>\n",
       "    </tr>\n",
       "    <tr>\n",
       "      <th>2</th>\n",
       "      <td>-2.793413</td>\n",
       "      <td>-0.543071</td>\n",
       "      <td>-0.907617</td>\n",
       "      <td>2.007772</td>\n",
       "      <td>1.225506</td>\n",
       "    </tr>\n",
       "    <tr>\n",
       "      <th>3</th>\n",
       "      <td>-2.979895</td>\n",
       "      <td>-0.477971</td>\n",
       "      <td>0.214934</td>\n",
       "      <td>-0.245225</td>\n",
       "      <td>-0.200131</td>\n",
       "    </tr>\n",
       "    <tr>\n",
       "      <th>4</th>\n",
       "      <td>-1.905801</td>\n",
       "      <td>-0.072210</td>\n",
       "      <td>-1.120459</td>\n",
       "      <td>0.036636</td>\n",
       "      <td>-0.515204</td>\n",
       "    </tr>\n",
       "    <tr>\n",
       "      <th>...</th>\n",
       "      <td>...</td>\n",
       "      <td>...</td>\n",
       "      <td>...</td>\n",
       "      <td>...</td>\n",
       "      <td>...</td>\n",
       "    </tr>\n",
       "    <tr>\n",
       "      <th>16188</th>\n",
       "      <td>-1.283409</td>\n",
       "      <td>0.812345</td>\n",
       "      <td>0.507309</td>\n",
       "      <td>0.652777</td>\n",
       "      <td>0.383268</td>\n",
       "    </tr>\n",
       "    <tr>\n",
       "      <th>16189</th>\n",
       "      <td>-2.745702</td>\n",
       "      <td>0.625724</td>\n",
       "      <td>1.113888</td>\n",
       "      <td>0.133907</td>\n",
       "      <td>0.055969</td>\n",
       "    </tr>\n",
       "    <tr>\n",
       "      <th>16190</th>\n",
       "      <td>-2.378211</td>\n",
       "      <td>1.444369</td>\n",
       "      <td>-0.920308</td>\n",
       "      <td>-1.182408</td>\n",
       "      <td>0.846947</td>\n",
       "    </tr>\n",
       "    <tr>\n",
       "      <th>16191</th>\n",
       "      <td>-3.268088</td>\n",
       "      <td>0.649907</td>\n",
       "      <td>-0.314759</td>\n",
       "      <td>-0.482096</td>\n",
       "      <td>0.439546</td>\n",
       "    </tr>\n",
       "    <tr>\n",
       "      <th>16192</th>\n",
       "      <td>-1.023019</td>\n",
       "      <td>0.629576</td>\n",
       "      <td>1.031429</td>\n",
       "      <td>-1.157913</td>\n",
       "      <td>-0.932925</td>\n",
       "    </tr>\n",
       "  </tbody>\n",
       "</table>\n",
       "<p>16193 rows × 5 columns</p>\n",
       "</div>"
      ],
      "text/plain": [
       "            PC1       PC2       PC3       PC4       PC5\n",
       "0     -2.132478  0.123186 -1.120862 -0.833404 -0.153256\n",
       "1     -1.967529 -0.440371 -0.048571 -1.395281 -0.097471\n",
       "2     -2.793413 -0.543071 -0.907617  2.007772  1.225506\n",
       "3     -2.979895 -0.477971  0.214934 -0.245225 -0.200131\n",
       "4     -1.905801 -0.072210 -1.120459  0.036636 -0.515204\n",
       "...         ...       ...       ...       ...       ...\n",
       "16188 -1.283409  0.812345  0.507309  0.652777  0.383268\n",
       "16189 -2.745702  0.625724  1.113888  0.133907  0.055969\n",
       "16190 -2.378211  1.444369 -0.920308 -1.182408  0.846947\n",
       "16191 -3.268088  0.649907 -0.314759 -0.482096  0.439546\n",
       "16192 -1.023019  0.629576  1.031429 -1.157913 -0.932925\n",
       "\n",
       "[16193 rows x 5 columns]"
      ]
     },
     "execution_count": 36,
     "metadata": {},
     "output_type": "execute_result"
    }
   ],
   "source": [
    "pca_df"
   ]
  },
  {
   "cell_type": "code",
   "execution_count": null,
   "id": "e66fd961",
   "metadata": {},
   "outputs": [],
   "source": []
  }
 ],
 "metadata": {
  "kernelspec": {
   "display_name": "Python 3 (ipykernel)",
   "language": "python",
   "name": "python3"
  },
  "language_info": {
   "codemirror_mode": {
    "name": "ipython",
    "version": 3
   },
   "file_extension": ".py",
   "mimetype": "text/x-python",
   "name": "python",
   "nbconvert_exporter": "python",
   "pygments_lexer": "ipython3",
   "version": "3.9.7"
  }
 },
 "nbformat": 4,
 "nbformat_minor": 5
}
